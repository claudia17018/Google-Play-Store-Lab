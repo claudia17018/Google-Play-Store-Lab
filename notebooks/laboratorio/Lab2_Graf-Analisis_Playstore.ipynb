{
 "cells": [
  {
   "cell_type": "markdown",
   "id": "7b9b0907-6b55-4cf6-b058-29b9becb6170",
   "metadata": {},
   "source": [
    "# Laboratorio 2-Graficación y análisis con Playstore"
   ]
  },
  {
   "cell_type": "code",
   "execution_count": 100,
   "id": "49d0dfe2-cb76-4a90-b8d9-0233f124db94",
   "metadata": {},
   "outputs": [],
   "source": [
    "import pandas as pd\n",
    "import numpy as np\n",
    "from matplotlib import pyplot as plt\n",
    "\n",
    "# inicializador de objetos gráficos\n",
    "plt.style.use('ggplot')\n",
    "\n",
    "# para elaborar gráficas\n",
    "import seaborn as sns\n",
    "color= sns.color_palette()"
   ]
  },
  {
   "cell_type": "code",
   "execution_count": 101,
   "id": "248d7f3d-e6fd-475d-b393-8d417392d0de",
   "metadata": {},
   "outputs": [],
   "source": [
    "# Deactivar wWarnings( para el caso e librerias desactualizadas)\n",
    "import warnings\n",
    "warnings.filterwarnings('ignore')"
   ]
  },
  {
   "cell_type": "code",
   "execution_count": 102,
   "id": "f66220c0-7a0d-4436-9c0a-03a900a2fdab",
   "metadata": {},
   "outputs": [
    {
     "data": {
      "text/html": [
       "<div>\n",
       "<style scoped>\n",
       "    .dataframe tbody tr th:only-of-type {\n",
       "        vertical-align: middle;\n",
       "    }\n",
       "\n",
       "    .dataframe tbody tr th {\n",
       "        vertical-align: top;\n",
       "    }\n",
       "\n",
       "    .dataframe thead th {\n",
       "        text-align: right;\n",
       "    }\n",
       "</style>\n",
       "<table border=\"1\" class=\"dataframe\">\n",
       "  <thead>\n",
       "    <tr style=\"text-align: right;\">\n",
       "      <th></th>\n",
       "      <th>App</th>\n",
       "      <th>Category</th>\n",
       "      <th>Rating</th>\n",
       "      <th>Reviews</th>\n",
       "      <th>Size</th>\n",
       "      <th>Installs</th>\n",
       "      <th>Type</th>\n",
       "      <th>Price</th>\n",
       "      <th>Content Rating</th>\n",
       "      <th>Genres</th>\n",
       "      <th>Last Updated</th>\n",
       "      <th>Current Ver</th>\n",
       "      <th>Android Ver</th>\n",
       "    </tr>\n",
       "  </thead>\n",
       "  <tbody>\n",
       "    <tr>\n",
       "      <th>0</th>\n",
       "      <td>Photo Editor &amp; Candy Camera &amp; Grid &amp; ScrapBook</td>\n",
       "      <td>ART_AND_DESIGN</td>\n",
       "      <td>4.1</td>\n",
       "      <td>159</td>\n",
       "      <td>19M</td>\n",
       "      <td>10,000+</td>\n",
       "      <td>Free</td>\n",
       "      <td>0</td>\n",
       "      <td>Everyone</td>\n",
       "      <td>Art &amp; Design</td>\n",
       "      <td>January 7, 2018</td>\n",
       "      <td>1.0.0</td>\n",
       "      <td>4.0.3 and up</td>\n",
       "    </tr>\n",
       "    <tr>\n",
       "      <th>1</th>\n",
       "      <td>Coloring book moana</td>\n",
       "      <td>ART_AND_DESIGN</td>\n",
       "      <td>3.9</td>\n",
       "      <td>967</td>\n",
       "      <td>14M</td>\n",
       "      <td>500,000+</td>\n",
       "      <td>Free</td>\n",
       "      <td>0</td>\n",
       "      <td>Everyone</td>\n",
       "      <td>Art &amp; Design;Pretend Play</td>\n",
       "      <td>January 15, 2018</td>\n",
       "      <td>2.0.0</td>\n",
       "      <td>4.0.3 and up</td>\n",
       "    </tr>\n",
       "    <tr>\n",
       "      <th>2</th>\n",
       "      <td>U Launcher Lite – FREE Live Cool Themes, Hide ...</td>\n",
       "      <td>ART_AND_DESIGN</td>\n",
       "      <td>4.7</td>\n",
       "      <td>87510</td>\n",
       "      <td>8.7M</td>\n",
       "      <td>5,000,000+</td>\n",
       "      <td>Free</td>\n",
       "      <td>0</td>\n",
       "      <td>Everyone</td>\n",
       "      <td>Art &amp; Design</td>\n",
       "      <td>August 1, 2018</td>\n",
       "      <td>1.2.4</td>\n",
       "      <td>4.0.3 and up</td>\n",
       "    </tr>\n",
       "    <tr>\n",
       "      <th>3</th>\n",
       "      <td>Sketch - Draw &amp; Paint</td>\n",
       "      <td>ART_AND_DESIGN</td>\n",
       "      <td>4.5</td>\n",
       "      <td>215644</td>\n",
       "      <td>25M</td>\n",
       "      <td>50,000,000+</td>\n",
       "      <td>Free</td>\n",
       "      <td>0</td>\n",
       "      <td>Teen</td>\n",
       "      <td>Art &amp; Design</td>\n",
       "      <td>June 8, 2018</td>\n",
       "      <td>Varies with device</td>\n",
       "      <td>4.2 and up</td>\n",
       "    </tr>\n",
       "    <tr>\n",
       "      <th>4</th>\n",
       "      <td>Pixel Draw - Number Art Coloring Book</td>\n",
       "      <td>ART_AND_DESIGN</td>\n",
       "      <td>4.3</td>\n",
       "      <td>967</td>\n",
       "      <td>2.8M</td>\n",
       "      <td>100,000+</td>\n",
       "      <td>Free</td>\n",
       "      <td>0</td>\n",
       "      <td>Everyone</td>\n",
       "      <td>Art &amp; Design;Creativity</td>\n",
       "      <td>June 20, 2018</td>\n",
       "      <td>1.1</td>\n",
       "      <td>4.4 and up</td>\n",
       "    </tr>\n",
       "    <tr>\n",
       "      <th>...</th>\n",
       "      <td>...</td>\n",
       "      <td>...</td>\n",
       "      <td>...</td>\n",
       "      <td>...</td>\n",
       "      <td>...</td>\n",
       "      <td>...</td>\n",
       "      <td>...</td>\n",
       "      <td>...</td>\n",
       "      <td>...</td>\n",
       "      <td>...</td>\n",
       "      <td>...</td>\n",
       "      <td>...</td>\n",
       "      <td>...</td>\n",
       "    </tr>\n",
       "    <tr>\n",
       "      <th>10836</th>\n",
       "      <td>Sya9a Maroc - FR</td>\n",
       "      <td>FAMILY</td>\n",
       "      <td>4.5</td>\n",
       "      <td>38</td>\n",
       "      <td>53M</td>\n",
       "      <td>5,000+</td>\n",
       "      <td>Free</td>\n",
       "      <td>0</td>\n",
       "      <td>Everyone</td>\n",
       "      <td>Education</td>\n",
       "      <td>July 25, 2017</td>\n",
       "      <td>1.48</td>\n",
       "      <td>4.1 and up</td>\n",
       "    </tr>\n",
       "    <tr>\n",
       "      <th>10837</th>\n",
       "      <td>Fr. Mike Schmitz Audio Teachings</td>\n",
       "      <td>FAMILY</td>\n",
       "      <td>5.0</td>\n",
       "      <td>4</td>\n",
       "      <td>3.6M</td>\n",
       "      <td>100+</td>\n",
       "      <td>Free</td>\n",
       "      <td>0</td>\n",
       "      <td>Everyone</td>\n",
       "      <td>Education</td>\n",
       "      <td>July 6, 2018</td>\n",
       "      <td>1.0</td>\n",
       "      <td>4.1 and up</td>\n",
       "    </tr>\n",
       "    <tr>\n",
       "      <th>10838</th>\n",
       "      <td>Parkinson Exercices FR</td>\n",
       "      <td>MEDICAL</td>\n",
       "      <td>NaN</td>\n",
       "      <td>3</td>\n",
       "      <td>9.5M</td>\n",
       "      <td>1,000+</td>\n",
       "      <td>Free</td>\n",
       "      <td>0</td>\n",
       "      <td>Everyone</td>\n",
       "      <td>Medical</td>\n",
       "      <td>January 20, 2017</td>\n",
       "      <td>1.0</td>\n",
       "      <td>2.2 and up</td>\n",
       "    </tr>\n",
       "    <tr>\n",
       "      <th>10839</th>\n",
       "      <td>The SCP Foundation DB fr nn5n</td>\n",
       "      <td>BOOKS_AND_REFERENCE</td>\n",
       "      <td>4.5</td>\n",
       "      <td>114</td>\n",
       "      <td>Varies with device</td>\n",
       "      <td>1,000+</td>\n",
       "      <td>Free</td>\n",
       "      <td>0</td>\n",
       "      <td>Mature 17+</td>\n",
       "      <td>Books &amp; Reference</td>\n",
       "      <td>January 19, 2015</td>\n",
       "      <td>Varies with device</td>\n",
       "      <td>Varies with device</td>\n",
       "    </tr>\n",
       "    <tr>\n",
       "      <th>10840</th>\n",
       "      <td>iHoroscope - 2018 Daily Horoscope &amp; Astrology</td>\n",
       "      <td>LIFESTYLE</td>\n",
       "      <td>4.5</td>\n",
       "      <td>398307</td>\n",
       "      <td>19M</td>\n",
       "      <td>10,000,000+</td>\n",
       "      <td>Free</td>\n",
       "      <td>0</td>\n",
       "      <td>Everyone</td>\n",
       "      <td>Lifestyle</td>\n",
       "      <td>July 25, 2018</td>\n",
       "      <td>Varies with device</td>\n",
       "      <td>Varies with device</td>\n",
       "    </tr>\n",
       "  </tbody>\n",
       "</table>\n",
       "<p>10841 rows × 13 columns</p>\n",
       "</div>"
      ],
      "text/plain": [
       "                                                     App             Category  \\\n",
       "0         Photo Editor & Candy Camera & Grid & ScrapBook       ART_AND_DESIGN   \n",
       "1                                    Coloring book moana       ART_AND_DESIGN   \n",
       "2      U Launcher Lite – FREE Live Cool Themes, Hide ...       ART_AND_DESIGN   \n",
       "3                                  Sketch - Draw & Paint       ART_AND_DESIGN   \n",
       "4                  Pixel Draw - Number Art Coloring Book       ART_AND_DESIGN   \n",
       "...                                                  ...                  ...   \n",
       "10836                                   Sya9a Maroc - FR               FAMILY   \n",
       "10837                   Fr. Mike Schmitz Audio Teachings               FAMILY   \n",
       "10838                             Parkinson Exercices FR              MEDICAL   \n",
       "10839                      The SCP Foundation DB fr nn5n  BOOKS_AND_REFERENCE   \n",
       "10840      iHoroscope - 2018 Daily Horoscope & Astrology            LIFESTYLE   \n",
       "\n",
       "       Rating Reviews                Size     Installs  Type Price  \\\n",
       "0         4.1     159                 19M      10,000+  Free     0   \n",
       "1         3.9     967                 14M     500,000+  Free     0   \n",
       "2         4.7   87510                8.7M   5,000,000+  Free     0   \n",
       "3         4.5  215644                 25M  50,000,000+  Free     0   \n",
       "4         4.3     967                2.8M     100,000+  Free     0   \n",
       "...       ...     ...                 ...          ...   ...   ...   \n",
       "10836     4.5      38                 53M       5,000+  Free     0   \n",
       "10837     5.0       4                3.6M         100+  Free     0   \n",
       "10838     NaN       3                9.5M       1,000+  Free     0   \n",
       "10839     4.5     114  Varies with device       1,000+  Free     0   \n",
       "10840     4.5  398307                 19M  10,000,000+  Free     0   \n",
       "\n",
       "      Content Rating                     Genres      Last Updated  \\\n",
       "0           Everyone               Art & Design   January 7, 2018   \n",
       "1           Everyone  Art & Design;Pretend Play  January 15, 2018   \n",
       "2           Everyone               Art & Design    August 1, 2018   \n",
       "3               Teen               Art & Design      June 8, 2018   \n",
       "4           Everyone    Art & Design;Creativity     June 20, 2018   \n",
       "...              ...                        ...               ...   \n",
       "10836       Everyone                  Education     July 25, 2017   \n",
       "10837       Everyone                  Education      July 6, 2018   \n",
       "10838       Everyone                    Medical  January 20, 2017   \n",
       "10839     Mature 17+          Books & Reference  January 19, 2015   \n",
       "10840       Everyone                  Lifestyle     July 25, 2018   \n",
       "\n",
       "              Current Ver         Android Ver  \n",
       "0                   1.0.0        4.0.3 and up  \n",
       "1                   2.0.0        4.0.3 and up  \n",
       "2                   1.2.4        4.0.3 and up  \n",
       "3      Varies with device          4.2 and up  \n",
       "4                     1.1          4.4 and up  \n",
       "...                   ...                 ...  \n",
       "10836                1.48          4.1 and up  \n",
       "10837                 1.0          4.1 and up  \n",
       "10838                 1.0          2.2 and up  \n",
       "10839  Varies with device  Varies with device  \n",
       "10840  Varies with device  Varies with device  \n",
       "\n",
       "[10841 rows x 13 columns]"
      ]
     },
     "execution_count": 102,
     "metadata": {},
     "output_type": "execute_result"
    }
   ],
   "source": [
    "# Filtar los datos\n",
    "df= pd.read_csv('../../datos/playstore.csv')\n",
    "df"
   ]
  },
  {
   "cell_type": "code",
   "execution_count": 103,
   "id": "1fef63c1-983c-478f-93b3-243ec481aea3",
   "metadata": {},
   "outputs": [
    {
     "name": "stdout",
     "output_type": "stream",
     "text": [
      "<class 'pandas.core.frame.DataFrame'>\n",
      "RangeIndex: 10841 entries, 0 to 10840\n",
      "Data columns (total 13 columns):\n",
      " #   Column          Non-Null Count  Dtype  \n",
      "---  ------          --------------  -----  \n",
      " 0   App             10841 non-null  object \n",
      " 1   Category        10841 non-null  object \n",
      " 2   Rating          9367 non-null   float64\n",
      " 3   Reviews         10841 non-null  object \n",
      " 4   Size            10841 non-null  object \n",
      " 5   Installs        10841 non-null  object \n",
      " 6   Type            10840 non-null  object \n",
      " 7   Price           10841 non-null  object \n",
      " 8   Content Rating  10840 non-null  object \n",
      " 9   Genres          10841 non-null  object \n",
      " 10  Last Updated    10841 non-null  object \n",
      " 11  Current Ver     10833 non-null  object \n",
      " 12  Android Ver     10838 non-null  object \n",
      "dtypes: float64(1), object(12)\n",
      "memory usage: 1.1+ MB\n"
     ]
    }
   ],
   "source": [
    "df.info()"
   ]
  },
  {
   "cell_type": "code",
   "execution_count": 104,
   "id": "a2ef3e15-afe4-4bf4-b556-9ddd85bf74e3",
   "metadata": {},
   "outputs": [],
   "source": [
    "# eliminado datos duplicados\n",
    "df.drop_duplicates(subset='App', inplace=True)"
   ]
  },
  {
   "cell_type": "markdown",
   "id": "4bc236ef-b096-4fe0-923c-98cca9968949",
   "metadata": {},
   "source": [
    "# LimpiezArithmeticErrora de Datos con  expresiones regulares lambda "
   ]
  },
  {
   "cell_type": "code",
   "execution_count": 105,
   "id": "1486214b-622a-4369-a86d-28e31f377a1f",
   "metadata": {},
   "outputs": [],
   "source": [
    "# **************=    Rating   = ************************"
   ]
  },
  {
   "cell_type": "code",
   "execution_count": 106,
   "id": "312f6816-4b93-4295-859a-2d4f5a545bdf",
   "metadata": {},
   "outputs": [],
   "source": [
    "# Usar una función lambda para reemplazar NaN con la media de la columna 'Rating'\n",
    "df['Rating'] = df['Rating'].apply(lambda x: x if pd.notna(x) else df['Rating'].mean())"
   ]
  },
  {
   "cell_type": "code",
   "execution_count": 107,
   "id": "54433194-c505-44c7-acd8-293ea578bf33",
   "metadata": {},
   "outputs": [],
   "source": [
    "# **************=      Reviews    = ************************"
   ]
  },
  {
   "cell_type": "code",
   "execution_count": 108,
   "id": "23d41c75-0904-471e-8617-d813e897a999",
   "metadata": {},
   "outputs": [],
   "source": [
    "import re  # Importar el módulo re para trabajar con expresiones regulares\n",
    "\n",
    "# Función para reemplazar 'M' con 'millón' y convertir a entero\n",
    "def replace_and_convert(value):\n",
    "    value = str(value)  # Convertir el valor a cadena de texto\n",
    "    if 'M' in value:\n",
    "        # Usar una expresión regular para extraer el número antes de 'M'\n",
    "        number = re.sub(r'[^\\d.]', '', value)  # Eliminar todo excepto dígitos y puntos\n",
    "        return int(float(number) * 1_000_000)  # Convertir a entero después de multiplicar por 1,000,000\n",
    "    else:\n",
    "        # Convertir el valor directamente a entero\n",
    "        return int(float(value))\n",
    "\n",
    "\n",
    "\n",
    "# Aplicar la función para reemplazar y convertir los valores en la columna 'Reviews'\n",
    "df['Reviews'] = df['Reviews'].apply(lambda x: replace_and_convert(x))\n"
   ]
  },
  {
   "cell_type": "code",
   "execution_count": 109,
   "id": "dc0fec9a-4c06-46e1-8f1e-1c94600cefe1",
   "metadata": {},
   "outputs": [],
   "source": [
    "# **************=      Size    = ************************"
   ]
  },
  {
   "cell_type": "code",
   "execution_count": 110,
   "id": "54794c64-3c0c-41c0-bdf8-d6a7a6732029",
   "metadata": {},
   "outputs": [],
   "source": [
    "# Reemplazar 'Varies with device' con np.nan\n",
    "df['Size'] = df['Size'].apply(lambda x: np.nan if 'Varies with device' in str(x) else str(x))"
   ]
  },
  {
   "cell_type": "code",
   "execution_count": 111,
   "id": "19caaf89-f5a8-432c-913a-7c2948cd1bea",
   "metadata": {},
   "outputs": [],
   "source": [
    "# Limpiar la columna 'Size' usando una función lambda \n",
    "df['Size'] = df['Size'].apply(lambda x: x.replace('M', '').replace(',', '').replace('+', '') if isinstance(x, str) else x)"
   ]
  },
  {
   "cell_type": "code",
   "execution_count": 112,
   "id": "cd523fda-8e40-4e5e-8c8f-1d27e6a72039",
   "metadata": {},
   "outputs": [],
   "source": [
    "# Reemplazar NaN con la moda\n",
    "size_mode = df['Size'].mode()[0]  # Encuentra la moda\n",
    "\n",
    "# Reemplazar NaN con la moda utilizando lambda\n",
    "df['Size'] = df['Size'].apply(lambda x: x if not pd.isna(x) else size_mode)"
   ]
  },
  {
   "cell_type": "code",
   "execution_count": 113,
   "id": "65ff8794-c0da-4602-ac43-86097a8b9521",
   "metadata": {},
   "outputs": [],
   "source": [
    " # todo queda en MEGAS\n",
    "df['Size']= df['Size'].apply(lambda x: float(str(x).replace('k',''))/1024 if 'k' in str(x) else x )"
   ]
  },
  {
   "cell_type": "code",
   "execution_count": 114,
   "id": "d87a1a3d-d693-4814-98c4-087d1bd6cc8b",
   "metadata": {},
   "outputs": [],
   "source": [
    "# Cambiar toda la columna a numerica\n",
    "df['Size'] = df['Size'].apply(lambda x: float(x))"
   ]
  },
  {
   "cell_type": "code",
   "execution_count": 115,
   "id": "6ef08790-80b5-4207-a4c8-37d51f9b47f2",
   "metadata": {},
   "outputs": [],
   "source": [
    "# **************=      Installs    = ************************"
   ]
  },
  {
   "cell_type": "code",
   "execution_count": 116,
   "id": "1fcb060a-a51d-4f6f-8aa7-3ef9e614af32",
   "metadata": {},
   "outputs": [],
   "source": [
    "# Limpiar la columna Installs   usando una función lambda eliminado , y +\n",
    "df['Installs'] = df['Installs'].apply(lambda x: x.replace('+', '').replace(',', '') if isinstance(x, str) else x)"
   ]
  },
  {
   "cell_type": "code",
   "execution_count": 117,
   "id": "effc76f0-e803-47ce-9c65-916655df1361",
   "metadata": {},
   "outputs": [],
   "source": [
    "# Reemplazar 'Free' con NaN usando lambda\n",
    "#df['Installs'] = df['Installs'].apply(lambda x: np.nan if x.lower() == 'free' else x)\n",
    "\n",
    "# Reemplazar 'Free' con 0 usando lambda\n",
    "df['Installs'] = df['Installs'].apply(lambda x: 0 if str(x).lower() == 'free' else x)"
   ]
  },
  {
   "cell_type": "code",
   "execution_count": 118,
   "id": "f7fda8a7-a9e0-49a4-a695-1a8479577d95",
   "metadata": {},
   "outputs": [],
   "source": [
    "# Cambiar la columna a numerica\n",
    "df['Installs'] = df['Installs'].apply(lambda x: float(x))"
   ]
  },
  {
   "cell_type": "code",
   "execution_count": 119,
   "id": "16bba0a8-9eed-485f-91b2-e61fc65732d6",
   "metadata": {},
   "outputs": [],
   "source": [
    "# **************=      Type    = ************************"
   ]
  },
  {
   "cell_type": "code",
   "execution_count": 120,
   "id": "59bf3e47-96ea-49b4-822e-b57127427e88",
   "metadata": {},
   "outputs": [],
   "source": [
    "# Reemplazar valores que no sean 'Free' o 'Paid' con NaN\n",
    "df['Type'] = df['Type'].apply(lambda x: x if str(x).strip().lower() in ['free', 'paid'] else np.nan)\n",
    "\n",
    "# Encontrar la moda de la columna 'Installs'\n",
    "moda = df['Type'].mode()[0]\n",
    "\n",
    "# Llenar los valores NaN con la moda usando lambda\n",
    "df['Type'] = df['Type'].apply(lambda x: moda if pd.isna(x) else x)"
   ]
  },
  {
   "cell_type": "code",
   "execution_count": 121,
   "id": "8416d862-598f-4e8d-affe-058d8f3b64f0",
   "metadata": {},
   "outputs": [],
   "source": [
    "# **************=      Price    = ************************"
   ]
  },
  {
   "cell_type": "code",
   "execution_count": 122,
   "id": "3991a938-90e3-4e14-8fe6-6f6e3f3250e7",
   "metadata": {},
   "outputs": [],
   "source": [
    "# columna price\n",
    "df['Price'] = df['Price'].apply(lambda x: x.replace('$', '').replace('Everyone', '0') if isinstance(x, str) else x)\n",
    "df['Price'] = df['Price'].apply(lambda x: float(x))"
   ]
  },
  {
   "cell_type": "code",
   "execution_count": 123,
   "id": "c5b65139-0c39-4317-9055-e7572002fb90",
   "metadata": {},
   "outputs": [],
   "source": [
    "# **************=      Content Rating    = ************************"
   ]
  },
  {
   "cell_type": "code",
   "execution_count": 124,
   "id": "cd323ff9-7156-4d30-907a-d29bf83a4415",
   "metadata": {},
   "outputs": [],
   "source": [
    "# llemando valores nulos  con la moda\n",
    "# Reemplazar NaN con la moda\n",
    "size_mode = df['Content Rating'].mode()[0]  # Encuentra la moda\n",
    "\n",
    "# Reemplazar NaN con la moda utilizando lambda\n",
    "df['Content Rating'] = df['Content Rating'].apply(lambda x: x if not pd.isna(x) else size_mode)\n"
   ]
  },
  {
   "cell_type": "code",
   "execution_count": 125,
   "id": "73462f80-befd-4f3d-bb60-735ad5f3a32c",
   "metadata": {},
   "outputs": [],
   "source": [
    "# **************=      Genres    = ************************"
   ]
  },
  {
   "cell_type": "code",
   "execution_count": 126,
   "id": "e0502628-64fd-401a-8708-d2bae852deed",
   "metadata": {},
   "outputs": [],
   "source": [
    "# **************=      Last Updated    = ************************"
   ]
  },
  {
   "cell_type": "code",
   "execution_count": 127,
   "id": "ac267987-84dd-419f-a9da-0df70972ae61",
   "metadata": {},
   "outputs": [],
   "source": [
    "# Convertir la columna 'Last Updated' a formato de fecha, manejando errores\n",
    "df['Last Updated'] = df['Last Updated'].apply(lambda x: pd.to_datetime(x, format='%B %d, %Y', errors='coerce'))"
   ]
  },
  {
   "cell_type": "code",
   "execution_count": 128,
   "id": "7160f19e-9fc7-4eae-ba30-7bed0f17a607",
   "metadata": {},
   "outputs": [],
   "source": [
    "# **************=      Current Ver    = ************************"
   ]
  },
  {
   "cell_type": "code",
   "execution_count": 129,
   "id": "f0b0b399-10f5-4f69-a713-4b8efb41caa6",
   "metadata": {},
   "outputs": [],
   "source": [
    "# Eliminar filas donde 'Current Ver' es NaN\n",
    "df = df.dropna(subset=['Current Ver'])"
   ]
  },
  {
   "cell_type": "code",
   "execution_count": 130,
   "id": "b4135ecb-b312-4a10-b9b4-e1b6cb035a8d",
   "metadata": {},
   "outputs": [],
   "source": [
    "# **************=      Android Ver    = ************************"
   ]
  },
  {
   "cell_type": "code",
   "execution_count": 131,
   "id": "989745f2-a0ce-4119-9e7f-179762b799f7",
   "metadata": {},
   "outputs": [],
   "source": [
    "# Eliminar filas donde 'Android Ver' es NaN\n",
    "df = df.dropna(subset=['Android Ver'])"
   ]
  },
  {
   "cell_type": "code",
   "execution_count": 132,
   "id": "4485a6b4-9168-47b8-a9a1-399ff8d5507d",
   "metadata": {},
   "outputs": [
    {
     "name": "stdout",
     "output_type": "stream",
     "text": [
      "<class 'pandas.core.frame.DataFrame'>\n",
      "Index: 9649 entries, 0 to 10840\n",
      "Data columns (total 13 columns):\n",
      " #   Column          Non-Null Count  Dtype         \n",
      "---  ------          --------------  -----         \n",
      " 0   App             9649 non-null   object        \n",
      " 1   Category        9649 non-null   object        \n",
      " 2   Rating          9649 non-null   float64       \n",
      " 3   Reviews         9649 non-null   int64         \n",
      " 4   Size            9649 non-null   float64       \n",
      " 5   Installs        9649 non-null   float64       \n",
      " 6   Type            9649 non-null   object        \n",
      " 7   Price           9649 non-null   float64       \n",
      " 8   Content Rating  9649 non-null   object        \n",
      " 9   Genres          9649 non-null   object        \n",
      " 10  Last Updated    9649 non-null   datetime64[ns]\n",
      " 11  Current Ver     9649 non-null   object        \n",
      " 12  Android Ver     9649 non-null   object        \n",
      "dtypes: datetime64[ns](1), float64(4), int64(1), object(7)\n",
      "memory usage: 1.0+ MB\n"
     ]
    }
   ],
   "source": [
    "df.info()"
   ]
  },
  {
   "cell_type": "code",
   "execution_count": 133,
   "id": "f28f1e59-36d8-4533-a23c-276da38281ce",
   "metadata": {},
   "outputs": [
    {
     "data": {
      "text/plain": [
       "App               0\n",
       "Category          0\n",
       "Rating            0\n",
       "Reviews           0\n",
       "Size              0\n",
       "Installs          0\n",
       "Type              0\n",
       "Price             0\n",
       "Content Rating    0\n",
       "Genres            0\n",
       "Last Updated      0\n",
       "Current Ver       0\n",
       "Android Ver       0\n",
       "dtype: int64"
      ]
     },
     "execution_count": 133,
     "metadata": {},
     "output_type": "execute_result"
    }
   ],
   "source": [
    "# Contar valores NaN por columna\n",
    "#nan_counts = df.isnull().sum()\n",
    "nan_counts = df.isna().sum()\n",
    "nan_counts"
   ]
  },
  {
   "cell_type": "markdown",
   "id": "c65f92cc-3e9f-4f06-8375-580d4dca2cfb",
   "metadata": {},
   "source": [
    "# Graficación y análisis"
   ]
  },
  {
   "cell_type": "code",
   "execution_count": 134,
   "id": "70df16ee-1421-48a3-ba44-4c0f2c2b59e8",
   "metadata": {},
   "outputs": [],
   "source": [
    "# probando "
   ]
  },
  {
   "cell_type": "code",
   "execution_count": 135,
   "id": "4cef7ac9-d8f9-44ab-8b23-f4068b4c0f28",
   "metadata": {
    "scrolled": true
   },
   "outputs": [
    {
     "data": {
      "image/png": "[encoded data removed]",
      "text/plain": [
       "<Figure size 1200x800 with 1 Axes>"
      ]
     },
     "metadata": {},
     "output_type": "display_data"
    }
   ],
   "source": [
    "\n",
    "\n",
    "# Crear la figura y el gráfico utilizando Seaborn\n",
    "plt.figure(figsize=(12, 8))\n",
    "sns.countplot(x='Category', data=df, palette='husl', order=df['Category'].value_counts().index)\n",
    "plt.xlabel('Categoría')\n",
    "plt.ylabel('Cantidad de Aplicaciones')\n",
    "plt.title('Cantidad de Aplicaciones por Categoría en Google Play Store')\n",
    "plt.xticks(rotation=90)  # Rotar etiquetas del eje x para mejor visualización\n",
    "plt.tight_layout()\n",
    "plt.show()"
   ]
  },
  {
   "cell_type": "code",
   "execution_count": null,
   "id": "43c7cd56-093d-4103-bb8c-a5c848cf4f36",
   "metadata": {},
   "outputs": [],
   "source": []
  },
  {
   "cell_type": "code",
   "execution_count": null,
   "id": "c2735733-b8b0-4ceb-9838-960ed9d3321d",
   "metadata": {},
   "outputs": [],
   "source": []
  }
 ],
 "metadata": {
  "kernelspec": {
   "display_name": "Python 3 (ipykernel)",
   "language": "python",
   "name": "python3"
  },
  "language_info": {
   "codemirror_mode": {
    "name": "ipython",
    "version": 3
   },
   "file_extension": ".py",
   "mimetype": "text/x-python",
   "name": "python",
   "nbconvert_exporter": "python",
   "pygments_lexer": "ipython3",
   "version": "3.11.7"
  }
 },
 "nbformat": 4,
 "nbformat_minor": 5
}
